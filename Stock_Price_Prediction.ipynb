{
  "nbformat": 4,
  "nbformat_minor": 0,
  "metadata": {
    "colab": {
      "name": "Stock Price Prediction.ipynb",
      "provenance": [],
      "collapsed_sections": []
    },
    "kernelspec": {
      "name": "python3",
      "display_name": "Python 3"
    },
    "accelerator": "GPU"
  },
  "cells": [
    {
      "cell_type": "code",
      "metadata": {
        "id": "3ghtwBTBUFV2"
      },
      "source": [
        "import math\n",
        "import pandas_datareader as web\n",
        "import numpy as np\n",
        "import pandas as pd\n",
        "from sklearn.preprocessing import MinMaxScaler\n",
        "from keras.models import Sequential\n",
        "from keras.layers import Dense, LSTM\n",
        "import matplotlib.pyplot as plt\n",
        "plt.style.use('fivethirtyeight')"
      ],
      "execution_count": null,
      "outputs": []
    },
    {
      "cell_type": "code",
      "metadata": {
        "colab": {
          "base_uri": "https://localhost:8080/",
          "height": 450
        },
        "id": "vBWiY4R9UH-W",
        "outputId": "0032fe93-9c8c-4f15-b02a-d6ec6b563329"
      },
      "source": [
        "# Get The stock quota\n",
        "df = web.DataReader('AAPL', data_source='yahoo', start='2012-01-01', end='2020-11-21')\n",
        "# Show the data\n",
        "df"
      ],
      "execution_count": null,
      "outputs": [
        {
          "output_type": "execute_result",
          "data": {
            "text/html": [
              "<div>\n",
              "<style scoped>\n",
              "    .dataframe tbody tr th:only-of-type {\n",
              "        vertical-align: middle;\n",
              "    }\n",
              "\n",
              "    .dataframe tbody tr th {\n",
              "        vertical-align: top;\n",
              "    }\n",
              "\n",
              "    .dataframe thead th {\n",
              "        text-align: right;\n",
              "    }\n",
              "</style>\n",
              "<table border=\"1\" class=\"dataframe\">\n",
              "  <thead>\n",
              "    <tr style=\"text-align: right;\">\n",
              "      <th></th>\n",
              "      <th>High</th>\n",
              "      <th>Low</th>\n",
              "      <th>Open</th>\n",
              "      <th>Close</th>\n",
              "      <th>Volume</th>\n",
              "      <th>Adj Close</th>\n",
              "    </tr>\n",
              "    <tr>\n",
              "      <th>Date</th>\n",
              "      <th></th>\n",
              "      <th></th>\n",
              "      <th></th>\n",
              "      <th></th>\n",
              "      <th></th>\n",
              "      <th></th>\n",
              "    </tr>\n",
              "  </thead>\n",
              "  <tbody>\n",
              "    <tr>\n",
              "      <th>2012-01-03</th>\n",
              "      <td>14.732142</td>\n",
              "      <td>14.607142</td>\n",
              "      <td>14.621428</td>\n",
              "      <td>14.686786</td>\n",
              "      <td>302220800.0</td>\n",
              "      <td>12.566676</td>\n",
              "    </tr>\n",
              "    <tr>\n",
              "      <th>2012-01-04</th>\n",
              "      <td>14.810000</td>\n",
              "      <td>14.617143</td>\n",
              "      <td>14.642858</td>\n",
              "      <td>14.765715</td>\n",
              "      <td>260022000.0</td>\n",
              "      <td>12.634213</td>\n",
              "    </tr>\n",
              "    <tr>\n",
              "      <th>2012-01-05</th>\n",
              "      <td>14.948215</td>\n",
              "      <td>14.738214</td>\n",
              "      <td>14.819643</td>\n",
              "      <td>14.929643</td>\n",
              "      <td>271269600.0</td>\n",
              "      <td>12.774481</td>\n",
              "    </tr>\n",
              "    <tr>\n",
              "      <th>2012-01-06</th>\n",
              "      <td>15.098214</td>\n",
              "      <td>14.972143</td>\n",
              "      <td>14.991786</td>\n",
              "      <td>15.085714</td>\n",
              "      <td>318292800.0</td>\n",
              "      <td>12.908023</td>\n",
              "    </tr>\n",
              "    <tr>\n",
              "      <th>2012-01-09</th>\n",
              "      <td>15.276786</td>\n",
              "      <td>15.048214</td>\n",
              "      <td>15.196428</td>\n",
              "      <td>15.061786</td>\n",
              "      <td>394024400.0</td>\n",
              "      <td>12.887549</td>\n",
              "    </tr>\n",
              "    <tr>\n",
              "      <th>...</th>\n",
              "      <td>...</td>\n",
              "      <td>...</td>\n",
              "      <td>...</td>\n",
              "      <td>...</td>\n",
              "      <td>...</td>\n",
              "      <td>...</td>\n",
              "    </tr>\n",
              "    <tr>\n",
              "      <th>2020-11-16</th>\n",
              "      <td>120.989998</td>\n",
              "      <td>118.150002</td>\n",
              "      <td>118.919998</td>\n",
              "      <td>120.300003</td>\n",
              "      <td>91183000.0</td>\n",
              "      <td>120.300003</td>\n",
              "    </tr>\n",
              "    <tr>\n",
              "      <th>2020-11-17</th>\n",
              "      <td>120.669998</td>\n",
              "      <td>118.959999</td>\n",
              "      <td>119.550003</td>\n",
              "      <td>119.389999</td>\n",
              "      <td>74271000.0</td>\n",
              "      <td>119.389999</td>\n",
              "    </tr>\n",
              "    <tr>\n",
              "      <th>2020-11-18</th>\n",
              "      <td>119.820000</td>\n",
              "      <td>118.000000</td>\n",
              "      <td>118.610001</td>\n",
              "      <td>118.029999</td>\n",
              "      <td>76322100.0</td>\n",
              "      <td>118.029999</td>\n",
              "    </tr>\n",
              "    <tr>\n",
              "      <th>2020-11-19</th>\n",
              "      <td>119.059998</td>\n",
              "      <td>116.809998</td>\n",
              "      <td>117.589996</td>\n",
              "      <td>118.639999</td>\n",
              "      <td>74113000.0</td>\n",
              "      <td>118.639999</td>\n",
              "    </tr>\n",
              "    <tr>\n",
              "      <th>2020-11-20</th>\n",
              "      <td>118.769997</td>\n",
              "      <td>117.290001</td>\n",
              "      <td>118.639999</td>\n",
              "      <td>117.339996</td>\n",
              "      <td>73391400.0</td>\n",
              "      <td>117.339996</td>\n",
              "    </tr>\n",
              "  </tbody>\n",
              "</table>\n",
              "<p>2238 rows × 6 columns</p>\n",
              "</div>"
            ],
            "text/plain": [
              "                  High         Low  ...       Volume   Adj Close\n",
              "Date                                ...                         \n",
              "2012-01-03   14.732142   14.607142  ...  302220800.0   12.566676\n",
              "2012-01-04   14.810000   14.617143  ...  260022000.0   12.634213\n",
              "2012-01-05   14.948215   14.738214  ...  271269600.0   12.774481\n",
              "2012-01-06   15.098214   14.972143  ...  318292800.0   12.908023\n",
              "2012-01-09   15.276786   15.048214  ...  394024400.0   12.887549\n",
              "...                ...         ...  ...          ...         ...\n",
              "2020-11-16  120.989998  118.150002  ...   91183000.0  120.300003\n",
              "2020-11-17  120.669998  118.959999  ...   74271000.0  119.389999\n",
              "2020-11-18  119.820000  118.000000  ...   76322100.0  118.029999\n",
              "2020-11-19  119.059998  116.809998  ...   74113000.0  118.639999\n",
              "2020-11-20  118.769997  117.290001  ...   73391400.0  117.339996\n",
              "\n",
              "[2238 rows x 6 columns]"
            ]
          },
          "metadata": {
            "tags": []
          },
          "execution_count": 72
        }
      ]
    },
    {
      "cell_type": "code",
      "metadata": {
        "colab": {
          "base_uri": "https://localhost:8080/"
        },
        "id": "9kU2QlbqVbhb",
        "outputId": "5bfd4061-687a-41ed-f9fa-8422bcd1f1cf"
      },
      "source": [
        "# Get the number of rows and columns in the data set\n",
        "df.shape"
      ],
      "execution_count": null,
      "outputs": [
        {
          "output_type": "execute_result",
          "data": {
            "text/plain": [
              "(2238, 6)"
            ]
          },
          "metadata": {
            "tags": []
          },
          "execution_count": 73
        }
      ]
    },
    {
      "cell_type": "code",
      "metadata": {
        "id": "O3q8Vp0fWJVh",
        "colab": {
          "base_uri": "https://localhost:8080/",
          "height": 558
        },
        "outputId": "2d75a219-01d1-4de2-b90e-f2cd9d22390c"
      },
      "source": [
        "# Visualize the closing price history\n",
        "plt.figure(figsize=(16,8))\n",
        "plt.title('Close Price History')\n",
        "plt.plot(df['Close'])\n",
        "plt.xlabel('Data', fontsize=18)\n",
        "plt.ylabel('Close Price USD ($)', fontsize=18)\n",
        "plt.show()"
      ],
      "execution_count": null,
      "outputs": [
        {
          "output_type": "display_data",
          "data": {
            "image/png": "[encoded data removed]",
            "text/plain": [
              "<Figure size 1152x576 with 1 Axes>"
            ]
          },
          "metadata": {
            "tags": []
          }
        }
      ]
    },
    {
      "cell_type": "code",
      "metadata": {
        "colab": {
          "base_uri": "https://localhost:8080/"
        },
        "id": "tEixOE4aXJv3",
        "outputId": "7d9417dc-fe3d-4a6f-f9d0-695905b55ec1"
      },
      "source": [
        "# Create a new adataframe with only the 'Close column\n",
        "data = df.filter(['Close'])\n",
        "# Convert the dataframe to a numpy array\n",
        "dataset = data.values\n",
        "# Get the number of rows to train the model on\n",
        "training_data_len = math.ceil( len(dataset) * .8 )\n",
        "\n",
        "training_data_len"
      ],
      "execution_count": null,
      "outputs": [
        {
          "output_type": "execute_result",
          "data": {
            "text/plain": [
              "1791"
            ]
          },
          "metadata": {
            "tags": []
          },
          "execution_count": 75
        }
      ]
    },
    {
      "cell_type": "code",
      "metadata": {
        "colab": {
          "base_uri": "https://localhost:8080/"
        },
        "id": "voB5T5ckXnuK",
        "outputId": "1db339fe-c1b0-4fbe-98ab-969c84d18ae9"
      },
      "source": [
        "# Scale the data\n",
        "scaler = MinMaxScaler(feature_range=(0,1))\n",
        "scaled_data = scaler.fit_transform(dataset)\n",
        "\n",
        "scaled_data"
      ],
      "execution_count": null,
      "outputs": [
        {
          "output_type": "execute_result",
          "data": {
            "text/plain": [
              "array([[0.0061488 ],\n",
              "       [0.00680527],\n",
              "       [0.00816869],\n",
              "       ...,\n",
              "       [0.86567696],\n",
              "       [0.87075047],\n",
              "       [0.85993806]])"
            ]
          },
          "metadata": {
            "tags": []
          },
          "execution_count": 76
        }
      ]
    },
    {
      "cell_type": "code",
      "metadata": {
        "id": "NserS_MDYVMm",
        "colab": {
          "base_uri": "https://localhost:8080/"
        },
        "outputId": "08367623-e3d4-43c5-e8dd-d3993e8ec3b9"
      },
      "source": [
        "# Create the training data set\n",
        "# Create the scaled training data set\n",
        "train_data = scaled_data[0:training_data_len , :]\n",
        "# SPlit the data into x_train and y_train data sets\n",
        "x_train = []\n",
        "y_train = []\n",
        "\n",
        "for i in range(60, len(train_data)):\n",
        "  x_train.append(train_data[i-60:i, 0])\n",
        "  y_train.append(train_data[i, 0])\n",
        "  if i <= 61:\n",
        "    print(x_train)\n",
        "    print(y_train)\n",
        "    print()"
      ],
      "execution_count": null,
      "outputs": [
        {
          "output_type": "stream",
          "text": [
            "[array([0.0061488 , 0.00680527, 0.00816869, 0.00946678, 0.00926776,\n",
            "       0.00971629, 0.00951133, 0.00916676, 0.00869744, 0.01014998,\n",
            "       0.01145994, 0.01105596, 0.00884299, 0.01095496, 0.00887566,\n",
            "       0.01667305, 0.01607005, 0.01685722, 0.01855928, 0.01959001,\n",
            "       0.01950387, 0.01918604, 0.02054056, 0.02181487, 0.02325851,\n",
            "       0.0255903 , 0.03048855, 0.03056281, 0.03328967, 0.03532738,\n",
            "       0.03182524, 0.03317382, 0.03314709, 0.03692846, 0.0363908 ,\n",
            "       0.03738589, 0.0391741 , 0.0401692 , 0.04303567, 0.04512389,\n",
            "       0.04572687, 0.04593778, 0.04236733, 0.04150589, 0.04163362,\n",
            "       0.04499021, 0.04593482, 0.04796361, 0.05274602, 0.05912652,\n",
            "       0.0579324 , 0.05793537, 0.06254846, 0.06399208, 0.06296431,\n",
            "       0.06202567, 0.06104839, 0.06429507, 0.06652291, 0.06745562])]\n",
            "[0.06515055661523342]\n",
            "\n",
            "[array([0.0061488 , 0.00680527, 0.00816869, 0.00946678, 0.00926776,\n",
            "       0.00971629, 0.00951133, 0.00916676, 0.00869744, 0.01014998,\n",
            "       0.01145994, 0.01105596, 0.00884299, 0.01095496, 0.00887566,\n",
            "       0.01667305, 0.01607005, 0.01685722, 0.01855928, 0.01959001,\n",
            "       0.01950387, 0.01918604, 0.02054056, 0.02181487, 0.02325851,\n",
            "       0.0255903 , 0.03048855, 0.03056281, 0.03328967, 0.03532738,\n",
            "       0.03182524, 0.03317382, 0.03314709, 0.03692846, 0.0363908 ,\n",
            "       0.03738589, 0.0391741 , 0.0401692 , 0.04303567, 0.04512389,\n",
            "       0.04572687, 0.04593778, 0.04236733, 0.04150589, 0.04163362,\n",
            "       0.04499021, 0.04593482, 0.04796361, 0.05274602, 0.05912652,\n",
            "       0.0579324 , 0.05793537, 0.06254846, 0.06399208, 0.06296431,\n",
            "       0.06202567, 0.06104839, 0.06429507, 0.06652291, 0.06745562]), array([0.00680527, 0.00816869, 0.00946678, 0.00926776, 0.00971629,\n",
            "       0.00951133, 0.00916676, 0.00869744, 0.01014998, 0.01145994,\n",
            "       0.01105596, 0.00884299, 0.01095496, 0.00887566, 0.01667305,\n",
            "       0.01607005, 0.01685722, 0.01855928, 0.01959001, 0.01950387,\n",
            "       0.01918604, 0.02054056, 0.02181487, 0.02325851, 0.0255903 ,\n",
            "       0.03048855, 0.03056281, 0.03328967, 0.03532738, 0.03182524,\n",
            "       0.03317382, 0.03314709, 0.03692846, 0.0363908 , 0.03738589,\n",
            "       0.0391741 , 0.0401692 , 0.04303567, 0.04512389, 0.04572687,\n",
            "       0.04593778, 0.04236733, 0.04150589, 0.04163362, 0.04499021,\n",
            "       0.04593482, 0.04796361, 0.05274602, 0.05912652, 0.0579324 ,\n",
            "       0.05793537, 0.06254846, 0.06399208, 0.06296431, 0.06202567,\n",
            "       0.06104839, 0.06429507, 0.06652291, 0.06745562, 0.06515056])]\n",
            "[0.06515055661523342, 0.062088042929699744]\n",
            "\n"
          ],
          "name": "stdout"
        }
      ]
    },
    {
      "cell_type": "code",
      "metadata": {
        "id": "wngqPxqWZooU"
      },
      "source": [
        "# Convert the x_train and y_train to numpy arrays\n",
        "x_train, y_train = np.array(x_train), np.array(y_train)"
      ],
      "execution_count": null,
      "outputs": []
    },
    {
      "cell_type": "code",
      "metadata": {
        "colab": {
          "base_uri": "https://localhost:8080/"
        },
        "id": "vzkcxzAJZ1fH",
        "outputId": "83dcea0f-a193-42ac-c27b-e317e7669a30"
      },
      "source": [
        "# Reshape the data\n",
        "x_train = np.reshape(x_train, (x_train.shape[0], x_train.shape[1], 1))\n",
        "x_train.shape"
      ],
      "execution_count": null,
      "outputs": [
        {
          "output_type": "execute_result",
          "data": {
            "text/plain": [
              "(1731, 60, 1)"
            ]
          },
          "metadata": {
            "tags": []
          },
          "execution_count": 79
        }
      ]
    },
    {
      "cell_type": "code",
      "metadata": {
        "id": "lXPVBJYyalFT"
      },
      "source": [
        "# Build the LSTM model\n",
        "model = Sequential()\n",
        "model.add(LSTM(50, return_sequences=True, input_shape = (x_train.shape[1], 1)))\n",
        "model.add(LSTM(50, return_sequences=False))\n",
        "model.add(Dense(25))\n",
        "model.add(Dense(1))"
      ],
      "execution_count": null,
      "outputs": []
    },
    {
      "cell_type": "code",
      "metadata": {
        "id": "VV7aMw8TbKg5"
      },
      "source": [
        "# Complie the model\n",
        "model.compile(optimizer='adam', loss='mean_squared_error')"
      ],
      "execution_count": null,
      "outputs": []
    },
    {
      "cell_type": "code",
      "metadata": {
        "colab": {
          "base_uri": "https://localhost:8080/"
        },
        "id": "OR0_NhRHbaBm",
        "outputId": "c0d664c8-11fb-49f0-ffc9-f2a94e065710"
      },
      "source": [
        "# Train the \n",
        "model.fit(x_train, y_train, batch_size=1, epochs=1)"
      ],
      "execution_count": null,
      "outputs": [
        {
          "output_type": "stream",
          "text": [
            "1731/1731 [==============================] - 10s 6ms/step - loss: 2.8744e-04\n"
          ],
          "name": "stdout"
        },
        {
          "output_type": "execute_result",
          "data": {
            "text/plain": [
              "<tensorflow.python.keras.callbacks.History at 0x7ff7fa4a1ef0>"
            ]
          },
          "metadata": {
            "tags": []
          },
          "execution_count": 82
        }
      ]
    },
    {
      "cell_type": "code",
      "metadata": {
        "id": "pJWsmI1Jbu7X"
      },
      "source": [
        "# Create the testing data set\n",
        "# Create a new array containing scaled from index 1543 to 2003\n",
        "test_data = scaled_data[training_data_len - 60: , :]\n",
        "# Create the data set x_test and y_test\n",
        "x_test = []\n",
        "y_test = dataset[training_data_len:, :]\n",
        "for i in range(60, len(test_data)):\n",
        "  x_test.append(test_data[i-60:i, 0])"
      ],
      "execution_count": null,
      "outputs": []
    },
    {
      "cell_type": "code",
      "metadata": {
        "id": "heR8nmG3coZk"
      },
      "source": [
        "# Convert the data to a numpy array\n",
        "x_test = np.array(x_test)"
      ],
      "execution_count": null,
      "outputs": []
    },
    {
      "cell_type": "code",
      "metadata": {
        "id": "Dkd1UC4ac5xo"
      },
      "source": [
        "# Reshape the data\n",
        "x_test = np.reshape(x_test, (x_test.shape[0], x_test.shape[1], 1))"
      ],
      "execution_count": null,
      "outputs": []
    },
    {
      "cell_type": "code",
      "metadata": {
        "id": "ZLZaoPQkdTND"
      },
      "source": [
        "# Get the models predicted price values\n",
        "predictions = model.predict(x_test)\n",
        "predictions = scaler.inverse_transform(predictions)"
      ],
      "execution_count": null,
      "outputs": []
    },
    {
      "cell_type": "code",
      "metadata": {
        "id": "UtJlvM-tdtql",
        "colab": {
          "base_uri": "https://localhost:8080/"
        },
        "outputId": "3d779ffc-870b-495c-8305-befa510edd1c"
      },
      "source": [
        "# Get the root mean squared error (RMSE)\n",
        "rmse = np.sqrt( np.mean( predictions - y_test )**2 )\n",
        "rmse"
      ],
      "execution_count": null,
      "outputs": [
        {
          "output_type": "execute_result",
          "data": {
            "text/plain": [
              "0.10529303497382725"
            ]
          },
          "metadata": {
            "tags": []
          },
          "execution_count": 87
        }
      ]
    },
    {
      "cell_type": "code",
      "metadata": {
        "colab": {
          "base_uri": "https://localhost:8080/",
          "height": 660
        },
        "id": "XYORFzupgnTM",
        "outputId": "cca702fc-5b30-4edb-a903-be778980bfcc"
      },
      "source": [
        "# Plot the data\n",
        "train = data[:training_data_len]\n",
        "valid = data[training_data_len:]\n",
        "valid['Predictions'] = predictions\n",
        "# Visualize the data\n",
        "plt.figure(figsize=(16,8))\n",
        "plt.title('Model')\n",
        "plt.xlabel('Date', fontsize=18)\n",
        "plt.ylabel('Close Price USD ($)', fontsize=18)\n",
        "plt.plot(train['Close'])\n",
        "plt.plot(valid[['Close', 'Predictions']])\n",
        "plt.legend(['Train', 'Val', 'Predictions'], loc='lower right')\n",
        "plt.show()"
      ],
      "execution_count": null,
      "outputs": [
        {
          "output_type": "stream",
          "text": [
            "/usr/local/lib/python3.6/dist-packages/ipykernel_launcher.py:4: SettingWithCopyWarning: \n",
            "A value is trying to be set on a copy of a slice from a DataFrame.\n",
            "Try using .loc[row_indexer,col_indexer] = value instead\n",
            "\n",
            "See the caveats in the documentation: https://pandas.pydata.org/pandas-docs/stable/user_guide/indexing.html#returning-a-view-versus-a-copy\n",
            "  after removing the cwd from sys.path.\n"
          ],
          "name": "stderr"
        },
        {
          "output_type": "display_data",
          "data": {
            "image/png": "[encoded data removed]",
            "text/plain": [
              "<Figure size 1152x576 with 1 Axes>"
            ]
          },
          "metadata": {
            "tags": []
          }
        }
      ]
    },
    {
      "cell_type": "code",
      "metadata": {
        "colab": {
          "base_uri": "https://localhost:8080/",
          "height": 450
        },
        "id": "ADB4-HJ1iMzr",
        "outputId": "f31574d6-a033-4e39-b3f0-9a9b3d74e149"
      },
      "source": [
        "# Show the valid and predicted price\n",
        "valid"
      ],
      "execution_count": null,
      "outputs": [
        {
          "output_type": "execute_result",
          "data": {
            "text/html": [
              "<div>\n",
              "<style scoped>\n",
              "    .dataframe tbody tr th:only-of-type {\n",
              "        vertical-align: middle;\n",
              "    }\n",
              "\n",
              "    .dataframe tbody tr th {\n",
              "        vertical-align: top;\n",
              "    }\n",
              "\n",
              "    .dataframe thead th {\n",
              "        text-align: right;\n",
              "    }\n",
              "</style>\n",
              "<table border=\"1\" class=\"dataframe\">\n",
              "  <thead>\n",
              "    <tr style=\"text-align: right;\">\n",
              "      <th></th>\n",
              "      <th>Close</th>\n",
              "      <th>Predictions</th>\n",
              "    </tr>\n",
              "    <tr>\n",
              "      <th>Date</th>\n",
              "      <th></th>\n",
              "      <th></th>\n",
              "    </tr>\n",
              "  </thead>\n",
              "  <tbody>\n",
              "    <tr>\n",
              "      <th>2019-02-15</th>\n",
              "      <td>42.605000</td>\n",
              "      <td>43.266190</td>\n",
              "    </tr>\n",
              "    <tr>\n",
              "      <th>2019-02-19</th>\n",
              "      <td>42.732498</td>\n",
              "      <td>43.246735</td>\n",
              "    </tr>\n",
              "    <tr>\n",
              "      <th>2019-02-20</th>\n",
              "      <td>43.007500</td>\n",
              "      <td>43.229778</td>\n",
              "    </tr>\n",
              "    <tr>\n",
              "      <th>2019-02-21</th>\n",
              "      <td>42.764999</td>\n",
              "      <td>43.245796</td>\n",
              "    </tr>\n",
              "    <tr>\n",
              "      <th>2019-02-22</th>\n",
              "      <td>43.242500</td>\n",
              "      <td>43.251595</td>\n",
              "    </tr>\n",
              "    <tr>\n",
              "      <th>...</th>\n",
              "      <td>...</td>\n",
              "      <td>...</td>\n",
              "    </tr>\n",
              "    <tr>\n",
              "      <th>2020-11-16</th>\n",
              "      <td>120.300003</td>\n",
              "      <td>117.328537</td>\n",
              "    </tr>\n",
              "    <tr>\n",
              "      <th>2020-11-17</th>\n",
              "      <td>119.389999</td>\n",
              "      <td>118.026741</td>\n",
              "    </tr>\n",
              "    <tr>\n",
              "      <th>2020-11-18</th>\n",
              "      <td>118.029999</td>\n",
              "      <td>118.512909</td>\n",
              "    </tr>\n",
              "    <tr>\n",
              "      <th>2020-11-19</th>\n",
              "      <td>118.639999</td>\n",
              "      <td>118.670212</td>\n",
              "    </tr>\n",
              "    <tr>\n",
              "      <th>2020-11-20</th>\n",
              "      <td>117.339996</td>\n",
              "      <td>118.712708</td>\n",
              "    </tr>\n",
              "  </tbody>\n",
              "</table>\n",
              "<p>447 rows × 2 columns</p>\n",
              "</div>"
            ],
            "text/plain": [
              "                 Close  Predictions\n",
              "Date                               \n",
              "2019-02-15   42.605000    43.266190\n",
              "2019-02-19   42.732498    43.246735\n",
              "2019-02-20   43.007500    43.229778\n",
              "2019-02-21   42.764999    43.245796\n",
              "2019-02-22   43.242500    43.251595\n",
              "...                ...          ...\n",
              "2020-11-16  120.300003   117.328537\n",
              "2020-11-17  119.389999   118.026741\n",
              "2020-11-18  118.029999   118.512909\n",
              "2020-11-19  118.639999   118.670212\n",
              "2020-11-20  117.339996   118.712708\n",
              "\n",
              "[447 rows x 2 columns]"
            ]
          },
          "metadata": {
            "tags": []
          },
          "execution_count": 89
        }
      ]
    },
    {
      "cell_type": "code",
      "metadata": {
        "colab": {
          "base_uri": "https://localhost:8080/"
        },
        "id": "WzMe1H4viczo",
        "outputId": "11b32934-f805-47c8-c124-e6304421b6d4"
      },
      "source": [
        "# Get the quote\n",
        "apple_quote = web.DataReader('AAPL', data_source='yahoo', start='2012-01-01', end='2020-11-21')\n",
        "# Create a new dataframe\n",
        "new_df = apple_quote.filter(['Close'])\n",
        "# Get the list 60 day closing price values and convert the dataframe to an array\n",
        "last_60_days = new_df[-60:].values\n",
        "# Scale the data to be values between 0 and 1\n",
        "last_60_days_scaled = scaler.transform(last_60_days)\n",
        "# Create an empty list\n",
        "X_test = []\n",
        "# Append the past 60 days\n",
        "X_test.append(last_60_days_scaled)\n",
        "# Convert the X_test data set to a numpy array\n",
        "X_test = np.array(X_test)\n",
        "# Reshape the data\n",
        "X_test = np.reshape(X_test, (X_test.shape[0], X_test.shape[1], 1))\n",
        "# Get the predicted scaled price\n",
        "pred_price = model.predict(X_test)\n",
        "# Undo the scaling\n",
        "pred_price = scaler.inverse_transform(pred_price)\n",
        "print(pred_price)"
      ],
      "execution_count": null,
      "outputs": [
        {
          "output_type": "stream",
          "text": [
            "[[118.52061]]\n"
          ],
          "name": "stdout"
        }
      ]
    },
    {
      "cell_type": "code",
      "metadata": {
        "colab": {
          "base_uri": "https://localhost:8080/"
        },
        "id": "j4WAvcQnk9Or",
        "outputId": "fbf7b55d-a9f7-4fd9-d0ca-cb38a53218b5"
      },
      "source": [
        "# Get the quote\n",
        "apple_quote2 = web.DataReader('AAPL', data_source='yahoo', start='2020-11-20', end='2020-11-20')\n",
        "print(apple_quote2['Close'])"
      ],
      "execution_count": null,
      "outputs": [
        {
          "output_type": "stream",
          "text": [
            "Date\n",
            "2020-11-20    117.339996\n",
            "2020-11-20    117.339996\n",
            "Name: Close, dtype: float64\n"
          ],
          "name": "stdout"
        }
      ]
    }
  ]
}